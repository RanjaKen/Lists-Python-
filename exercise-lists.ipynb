{
 "cells": [
  {
   "cell_type": "markdown",
   "id": "36b21072",
   "metadata": {
    "papermill": {
     "duration": 0.008355,
     "end_time": "2024-09-15T10:40:20.884081",
     "exception": false,
     "start_time": "2024-09-15T10:40:20.875726",
     "status": "completed"
    },
    "tags": []
   },
   "source": [
    "**This notebook is an exercise in the [Python](https://www.kaggle.com/learn/python) course.  You can reference the tutorial at [this link](https://www.kaggle.com/colinmorris/lists).**\n",
    "\n",
    "---\n"
   ]
  },
  {
   "cell_type": "markdown",
   "id": "74aeaf55",
   "metadata": {
    "papermill": {
     "duration": 0.006152,
     "end_time": "2024-09-15T10:40:20.897936",
     "exception": false,
     "start_time": "2024-09-15T10:40:20.891784",
     "status": "completed"
    },
    "tags": []
   },
   "source": [
    "Things get more interesting with lists. You'll apply your new knowledge to solve the questions below. Remember to run the following cell first."
   ]
  },
  {
   "cell_type": "code",
   "execution_count": 1,
   "id": "88e20e70",
   "metadata": {
    "execution": {
     "iopub.execute_input": "2024-09-15T10:40:20.912655Z",
     "iopub.status.busy": "2024-09-15T10:40:20.912180Z",
     "iopub.status.idle": "2024-09-15T10:40:21.405212Z",
     "shell.execute_reply": "2024-09-15T10:40:21.404148Z"
    },
    "papermill": {
     "duration": 0.503255,
     "end_time": "2024-09-15T10:40:21.407653",
     "exception": false,
     "start_time": "2024-09-15T10:40:20.904398",
     "status": "completed"
    },
    "tags": []
   },
   "outputs": [
    {
     "name": "stdout",
     "output_type": "stream",
     "text": [
      "Setup complete.\n"
     ]
    }
   ],
   "source": [
    "from learntools.core import binder; binder.bind(globals())\n",
    "from learntools.python.ex4 import *\n",
    "print('Setup complete.')"
   ]
  },
  {
   "cell_type": "markdown",
   "id": "a876a824",
   "metadata": {
    "papermill": {
     "duration": 0.00622,
     "end_time": "2024-09-15T10:40:21.420457",
     "exception": false,
     "start_time": "2024-09-15T10:40:21.414237",
     "status": "completed"
    },
    "tags": []
   },
   "source": [
    "# 1.\n",
    "\n",
    "Complete the function below according to its docstring."
   ]
  },
  {
   "cell_type": "code",
   "execution_count": 2,
   "id": "97745e03",
   "metadata": {
    "execution": {
     "iopub.execute_input": "2024-09-15T10:40:21.435124Z",
     "iopub.status.busy": "2024-09-15T10:40:21.434570Z",
     "iopub.status.idle": "2024-09-15T10:40:21.448790Z",
     "shell.execute_reply": "2024-09-15T10:40:21.447623Z"
    },
    "papermill": {
     "duration": 0.024599,
     "end_time": "2024-09-15T10:40:21.451396",
     "exception": false,
     "start_time": "2024-09-15T10:40:21.426797",
     "status": "completed"
    },
    "tags": []
   },
   "outputs": [
    {
     "data": {
      "application/javascript": [
       "parent.postMessage({\"jupyterEvent\": \"custom.exercise_interaction\", \"data\": {\"outcomeType\": 1, \"valueTowardsCompletion\": 0.2, \"interactionType\": 1, \"questionType\": 2, \"questionId\": \"1_SelectSecondItem\", \"learnToolsVersion\": \"0.3.4\", \"failureMessage\": \"\", \"exceptionClass\": \"\", \"trace\": \"\"}}, \"*\")"
      ],
      "text/plain": [
       "<IPython.core.display.Javascript object>"
      ]
     },
     "metadata": {},
     "output_type": "display_data"
    },
    {
     "data": {
      "text/markdown": [
       "<span style=\"color:#33cc33\">Correct</span>"
      ],
      "text/plain": [
       "Correct"
      ]
     },
     "metadata": {},
     "output_type": "display_data"
    }
   ],
   "source": [
    "def select_second(L):\n",
    "    \"\"\"Return the second element of the given list. If the list has no second\n",
    "    element, return None.\n",
    "    \"\"\"\n",
    "    pass\n",
    "    if len(L) < 2:\n",
    "        return None\n",
    "    \n",
    "    return L[1]\n",
    "\n",
    "# Check your answer\n",
    "q1.check()"
   ]
  },
  {
   "cell_type": "code",
   "execution_count": 3,
   "id": "084d0acb",
   "metadata": {
    "execution": {
     "iopub.execute_input": "2024-09-15T10:40:21.467226Z",
     "iopub.status.busy": "2024-09-15T10:40:21.466771Z",
     "iopub.status.idle": "2024-09-15T10:40:21.471857Z",
     "shell.execute_reply": "2024-09-15T10:40:21.470580Z"
    },
    "papermill": {
     "duration": 0.015931,
     "end_time": "2024-09-15T10:40:21.474308",
     "exception": false,
     "start_time": "2024-09-15T10:40:21.458377",
     "status": "completed"
    },
    "tags": []
   },
   "outputs": [],
   "source": [
    "#q1.hint()\n",
    "#q1.solution()"
   ]
  },
  {
   "cell_type": "markdown",
   "id": "3f11b058",
   "metadata": {
    "papermill": {
     "duration": 0.006517,
     "end_time": "2024-09-15T10:40:21.487687",
     "exception": false,
     "start_time": "2024-09-15T10:40:21.481170",
     "status": "completed"
    },
    "tags": []
   },
   "source": [
    "# 2.\n",
    "\n",
    "You are analyzing sports teams.  Members of each team are stored in a list. The Coach is the first name in the list, the captain is the second name in the list, and other players are listed after that. \n",
    "These lists are stored in another list, which starts with the best team and proceeds through the list to the worst team last.  Complete the function below to select the **captain** of the worst team."
   ]
  },
  {
   "cell_type": "code",
   "execution_count": 4,
   "id": "3b6f6d82",
   "metadata": {
    "execution": {
     "iopub.execute_input": "2024-09-15T10:40:21.503212Z",
     "iopub.status.busy": "2024-09-15T10:40:21.502702Z",
     "iopub.status.idle": "2024-09-15T10:40:21.514640Z",
     "shell.execute_reply": "2024-09-15T10:40:21.513531Z"
    },
    "papermill": {
     "duration": 0.022479,
     "end_time": "2024-09-15T10:40:21.516979",
     "exception": false,
     "start_time": "2024-09-15T10:40:21.494500",
     "status": "completed"
    },
    "tags": []
   },
   "outputs": [
    {
     "data": {
      "application/javascript": [
       "parent.postMessage({\"jupyterEvent\": \"custom.exercise_interaction\", \"data\": {\"outcomeType\": 1, \"valueTowardsCompletion\": 0.2, \"interactionType\": 1, \"questionType\": 2, \"questionId\": \"2_LosingTeamCaptain\", \"learnToolsVersion\": \"0.3.4\", \"failureMessage\": \"\", \"exceptionClass\": \"\", \"trace\": \"\"}}, \"*\")"
      ],
      "text/plain": [
       "<IPython.core.display.Javascript object>"
      ]
     },
     "metadata": {},
     "output_type": "display_data"
    },
    {
     "data": {
      "text/markdown": [
       "<span style=\"color:#33cc33\">Correct</span>"
      ],
      "text/plain": [
       "Correct"
      ]
     },
     "metadata": {},
     "output_type": "display_data"
    }
   ],
   "source": [
    "def losing_team_captain(teams):\n",
    "    \"\"\"Given a list of teams, where each team is a list of names, return the 2nd player (captain)\n",
    "    from the last listed team\n",
    "    \"\"\"\n",
    "    pass\n",
    "    return teams[-1][1]\n",
    "\n",
    "# Check your answer\n",
    "q2.check()"
   ]
  },
  {
   "cell_type": "code",
   "execution_count": 5,
   "id": "6334d303",
   "metadata": {
    "execution": {
     "iopub.execute_input": "2024-09-15T10:40:21.533323Z",
     "iopub.status.busy": "2024-09-15T10:40:21.532852Z",
     "iopub.status.idle": "2024-09-15T10:40:21.537850Z",
     "shell.execute_reply": "2024-09-15T10:40:21.536699Z"
    },
    "papermill": {
     "duration": 0.016059,
     "end_time": "2024-09-15T10:40:21.540292",
     "exception": false,
     "start_time": "2024-09-15T10:40:21.524233",
     "status": "completed"
    },
    "tags": []
   },
   "outputs": [],
   "source": [
    "#q2.hint()\n",
    "#q2.solution()"
   ]
  },
  {
   "cell_type": "markdown",
   "id": "62088b5d",
   "metadata": {
    "papermill": {
     "duration": 0.007012,
     "end_time": "2024-09-15T10:40:21.554631",
     "exception": false,
     "start_time": "2024-09-15T10:40:21.547619",
     "status": "completed"
    },
    "tags": []
   },
   "source": [
    "# 3.\n",
    "\n",
    "The next iteration of Mario Kart will feature an extra-infuriating new item, the *Purple Shell*. When used, it warps the last place racer into first place and the first place racer into last place. Complete the function below to implement the Purple Shell's effect."
   ]
  },
  {
   "cell_type": "code",
   "execution_count": 6,
   "id": "63fa788c",
   "metadata": {
    "execution": {
     "iopub.execute_input": "2024-09-15T10:40:21.571282Z",
     "iopub.status.busy": "2024-09-15T10:40:21.570699Z",
     "iopub.status.idle": "2024-09-15T10:40:21.581780Z",
     "shell.execute_reply": "2024-09-15T10:40:21.580610Z"
    },
    "papermill": {
     "duration": 0.022413,
     "end_time": "2024-09-15T10:40:21.584288",
     "exception": false,
     "start_time": "2024-09-15T10:40:21.561875",
     "status": "completed"
    },
    "tags": []
   },
   "outputs": [
    {
     "data": {
      "application/javascript": [
       "parent.postMessage({\"jupyterEvent\": \"custom.exercise_interaction\", \"data\": {\"outcomeType\": 1, \"valueTowardsCompletion\": 0.2, \"interactionType\": 1, \"questionType\": 2, \"questionId\": \"3_PurpleShell\", \"learnToolsVersion\": \"0.3.4\", \"failureMessage\": \"\", \"exceptionClass\": \"\", \"trace\": \"\"}}, \"*\")"
      ],
      "text/plain": [
       "<IPython.core.display.Javascript object>"
      ]
     },
     "metadata": {},
     "output_type": "display_data"
    },
    {
     "data": {
      "text/markdown": [
       "<span style=\"color:#33cc33\">Correct</span>"
      ],
      "text/plain": [
       "Correct"
      ]
     },
     "metadata": {},
     "output_type": "display_data"
    }
   ],
   "source": [
    "def purple_shell(racers):\n",
    "    \"\"\"Given a list of racers, set the first place racer (at the front of the list) to last\n",
    "    place and vice versa.\n",
    "    \n",
    "    >>> r = [\"Mario\", \"Bowser\", \"Luigi\"]\n",
    "    >>> purple_shell(r)\n",
    "    >>> r\n",
    "    [\"Luigi\", \"Bowser\", \"Mario\"]\n",
    "    \"\"\"\n",
    "    pass\n",
    "    tmp = racers[0]\n",
    "    racers[0] = racers[-1]\n",
    "    racers[-1] = tmp\n",
    "\n",
    "# Check your answer\n",
    "q3.check()"
   ]
  },
  {
   "cell_type": "code",
   "execution_count": 7,
   "id": "1e9cc272",
   "metadata": {
    "execution": {
     "iopub.execute_input": "2024-09-15T10:40:21.601335Z",
     "iopub.status.busy": "2024-09-15T10:40:21.600787Z",
     "iopub.status.idle": "2024-09-15T10:40:21.605784Z",
     "shell.execute_reply": "2024-09-15T10:40:21.604646Z"
    },
    "papermill": {
     "duration": 0.016367,
     "end_time": "2024-09-15T10:40:21.608195",
     "exception": false,
     "start_time": "2024-09-15T10:40:21.591828",
     "status": "completed"
    },
    "tags": []
   },
   "outputs": [],
   "source": [
    "#q3.hint()\n",
    "#q3.solution()"
   ]
  },
  {
   "cell_type": "markdown",
   "id": "cac039ad",
   "metadata": {
    "papermill": {
     "duration": 0.00763,
     "end_time": "2024-09-15T10:40:21.624371",
     "exception": false,
     "start_time": "2024-09-15T10:40:21.616741",
     "status": "completed"
    },
    "tags": []
   },
   "source": [
    "# 4.\n",
    "\n",
    "What are the lengths of the following lists? Fill in the variable `lengths` with your predictions. (Try to make a prediction for each list *without* just calling `len()` on it.)"
   ]
  },
  {
   "cell_type": "code",
   "execution_count": 8,
   "id": "48da967f",
   "metadata": {
    "execution": {
     "iopub.execute_input": "2024-09-15T10:40:21.641654Z",
     "iopub.status.busy": "2024-09-15T10:40:21.641197Z",
     "iopub.status.idle": "2024-09-15T10:40:21.652521Z",
     "shell.execute_reply": "2024-09-15T10:40:21.651279Z"
    },
    "papermill": {
     "duration": 0.023317,
     "end_time": "2024-09-15T10:40:21.655190",
     "exception": false,
     "start_time": "2024-09-15T10:40:21.631873",
     "status": "completed"
    },
    "tags": []
   },
   "outputs": [
    {
     "data": {
      "application/javascript": [
       "parent.postMessage({\"jupyterEvent\": \"custom.exercise_interaction\", \"data\": {\"outcomeType\": 1, \"valueTowardsCompletion\": 0.2, \"interactionType\": 1, \"questionType\": 1, \"questionId\": \"4_UnderstandLen\", \"learnToolsVersion\": \"0.3.4\", \"failureMessage\": \"\", \"exceptionClass\": \"\", \"trace\": \"\"}}, \"*\")"
      ],
      "text/plain": [
       "<IPython.core.display.Javascript object>"
      ]
     },
     "metadata": {},
     "output_type": "display_data"
    },
    {
     "data": {
      "text/markdown": [
       "<span style=\"color:#33cc33\">Correct:</span> \n",
       "\n",
       "\n",
       "- a: There are three items in this list. Nothing tricky yet.\n",
       "- b: The list `[2, 3]` counts as a single item. It has one item before it. So we have 2 items in the list\n",
       "- c: The empty list has 0 items\n",
       "- d: The expression is the same as the list `[2, 3]`, which has length 2."
      ],
      "text/plain": [
       "Correct: \n",
       "\n",
       "\n",
       "- a: There are three items in this list. Nothing tricky yet.\n",
       "- b: The list `[2, 3]` counts as a single item. It has one item before it. So we have 2 items in the list\n",
       "- c: The empty list has 0 items\n",
       "- d: The expression is the same as the list `[2, 3]`, which has length 2."
      ]
     },
     "metadata": {},
     "output_type": "display_data"
    }
   ],
   "source": [
    "a = [1, 2, 3]\n",
    "b = [1, [2, 3]]\n",
    "c = []\n",
    "d = [1, 2, 3][1:]\n",
    "\n",
    "# Put your predictions in the list below. Lengths should contain 4 numbers, the\n",
    "# first being the length of a, the second being the length of b and so on.\n",
    "lengths = [3, 2, 0, 2]\n",
    "\n",
    "# Check your answer\n",
    "q4.check()"
   ]
  },
  {
   "cell_type": "code",
   "execution_count": 9,
   "id": "6852c37c",
   "metadata": {
    "execution": {
     "iopub.execute_input": "2024-09-15T10:40:21.672696Z",
     "iopub.status.busy": "2024-09-15T10:40:21.672297Z",
     "iopub.status.idle": "2024-09-15T10:40:21.677348Z",
     "shell.execute_reply": "2024-09-15T10:40:21.675975Z"
    },
    "papermill": {
     "duration": 0.016638,
     "end_time": "2024-09-15T10:40:21.679778",
     "exception": false,
     "start_time": "2024-09-15T10:40:21.663140",
     "status": "completed"
    },
    "tags": []
   },
   "outputs": [],
   "source": [
    "# line below provides some explanation\n",
    "#q4.solution()"
   ]
  },
  {
   "cell_type": "markdown",
   "id": "0cd9677e",
   "metadata": {
    "papermill": {
     "duration": 0.007671,
     "end_time": "2024-09-15T10:40:21.695665",
     "exception": false,
     "start_time": "2024-09-15T10:40:21.687994",
     "status": "completed"
    },
    "tags": []
   },
   "source": [
    "# 5. <span title=\"A bit spicy\" style=\"color: darkgreen \">🌶️</span>\n",
    "\n",
    "We're using lists to record people who attended our party and what order they arrived in. For example, the following list represents a party with 7 guests, in which Adela showed up first and Ford was the last to arrive:\n",
    "\n",
    "    party_attendees = ['Adela', 'Fleda', 'Owen', 'May', 'Mona', 'Gilbert', 'Ford']\n",
    "\n",
    "A guest is considered 'fashionably late' if they arrived after at least half of the party's guests. However, they must not be the very last guest (that's taking it too far). In the above example, Mona and Gilbert are the only guests who were fashionably late.\n",
    "\n",
    "Complete the function below which takes a list of party attendees as well as a person, and tells us whether that person is fashionably late."
   ]
  },
  {
   "cell_type": "code",
   "execution_count": 10,
   "id": "46494c59",
   "metadata": {
    "execution": {
     "iopub.execute_input": "2024-09-15T10:40:21.714083Z",
     "iopub.status.busy": "2024-09-15T10:40:21.713269Z",
     "iopub.status.idle": "2024-09-15T10:40:21.724340Z",
     "shell.execute_reply": "2024-09-15T10:40:21.723141Z"
    },
    "papermill": {
     "duration": 0.023027,
     "end_time": "2024-09-15T10:40:21.726880",
     "exception": false,
     "start_time": "2024-09-15T10:40:21.703853",
     "status": "completed"
    },
    "tags": []
   },
   "outputs": [
    {
     "data": {
      "application/javascript": [
       "parent.postMessage({\"jupyterEvent\": \"custom.exercise_interaction\", \"data\": {\"outcomeType\": 1, \"valueTowardsCompletion\": 0.2, \"interactionType\": 1, \"questionType\": 2, \"questionId\": \"5_FashionablyLate\", \"learnToolsVersion\": \"0.3.4\", \"failureMessage\": \"\", \"exceptionClass\": \"\", \"trace\": \"\"}}, \"*\")"
      ],
      "text/plain": [
       "<IPython.core.display.Javascript object>"
      ]
     },
     "metadata": {},
     "output_type": "display_data"
    },
    {
     "data": {
      "text/markdown": [
       "<span style=\"color:#33cc33\">Correct</span>"
      ],
      "text/plain": [
       "Correct"
      ]
     },
     "metadata": {},
     "output_type": "display_data"
    }
   ],
   "source": [
    "def fashionably_late(arrivals, name):\n",
    "    \"\"\"Given an ordered list of arrivals to the party and a name, return whether the guest with that\n",
    "    name was fashionably late.\n",
    "    \"\"\"\n",
    "    pass\n",
    "    order = arrivals.index(name)\n",
    "    return order >= len(arrivals) / 2 and order != len(arrivals) - 1\n",
    "\n",
    "# Check your answer\n",
    "q5.check()"
   ]
  },
  {
   "cell_type": "code",
   "execution_count": 11,
   "id": "841ea92e",
   "metadata": {
    "execution": {
     "iopub.execute_input": "2024-09-15T10:40:21.746268Z",
     "iopub.status.busy": "2024-09-15T10:40:21.745786Z",
     "iopub.status.idle": "2024-09-15T10:40:21.751605Z",
     "shell.execute_reply": "2024-09-15T10:40:21.750205Z"
    },
    "papermill": {
     "duration": 0.019112,
     "end_time": "2024-09-15T10:40:21.754369",
     "exception": false,
     "start_time": "2024-09-15T10:40:21.735257",
     "status": "completed"
    },
    "tags": []
   },
   "outputs": [],
   "source": [
    "#q5.hint()\n",
    "#q5.solution() "
   ]
  },
  {
   "cell_type": "markdown",
   "id": "6d243d24",
   "metadata": {
    "papermill": {
     "duration": 0.008082,
     "end_time": "2024-09-15T10:40:21.771488",
     "exception": false,
     "start_time": "2024-09-15T10:40:21.763406",
     "status": "completed"
    },
    "tags": []
   },
   "source": [
    "# Keep Going\n",
    "\n",
    "That's it for lists and tuples! Now you have the baseline knowledge to **[learn about loops](https://www.kaggle.com/colinmorris/loops-and-list-comprehensions)**, which is where lists and tuples get really interesting. "
   ]
  },
  {
   "cell_type": "markdown",
   "id": "88b2a385",
   "metadata": {
    "papermill": {
     "duration": 0.007901,
     "end_time": "2024-09-15T10:40:21.787557",
     "exception": false,
     "start_time": "2024-09-15T10:40:21.779656",
     "status": "completed"
    },
    "tags": []
   },
   "source": [
    "---\n",
    "\n",
    "\n",
    "\n",
    "\n",
    "*Have questions or comments? Visit the [course discussion forum](https://www.kaggle.com/learn/python/discussion) to chat with other learners.*"
   ]
  }
 ],
 "metadata": {
  "kaggle": {
   "accelerator": "none",
   "dataSources": [],
   "isGpuEnabled": false,
   "isInternetEnabled": false,
   "language": "python",
   "sourceType": "notebook"
  },
  "kernelspec": {
   "display_name": "Python 3",
   "language": "python",
   "name": "python3"
  },
  "language_info": {
   "codemirror_mode": {
    "name": "ipython",
    "version": 3
   },
   "file_extension": ".py",
   "mimetype": "text/x-python",
   "name": "python",
   "nbconvert_exporter": "python",
   "pygments_lexer": "ipython3",
   "version": "3.10.14"
  },
  "learntools_metadata": {
   "lesson_index": 3,
   "type": "exercise"
  },
  "papermill": {
   "default_parameters": {},
   "duration": 4.522456,
   "end_time": "2024-09-15T10:40:22.317990",
   "environment_variables": {},
   "exception": null,
   "input_path": "__notebook__.ipynb",
   "output_path": "__notebook__.ipynb",
   "parameters": {},
   "start_time": "2024-09-15T10:40:17.795534",
   "version": "2.6.0"
  }
 },
 "nbformat": 4,
 "nbformat_minor": 5
}
